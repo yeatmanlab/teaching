{
 "cells": [
  {
   "cell_type": "markdown",
   "metadata": {},
   "source": [
    "## HW0 -- Setting up Nilearn and Plotting. This assignment will serve as a general tutorial to neuroimaging data and the Nilearn package"
   ]
  },
  {
   "cell_type": "markdown",
   "metadata": {},
   "source": [
    "This first assignment will serve as a brief introduction to the nilearn Python library (https://nilearn.github.io/dev/index.html). In this assigment, you will see how to import data with nilearn, generate images of brain data, and develop some familiarity with nilearn syntax. To complete this assignment, make sure that you have nilearn, pandas, and numpy installed and that you can import these packages into a Jupyter Notebook environment. For Parts 0-2, all you have to do is run the cells below. For Part 3, you will have to add your own calls to nilearn.  "
   ]
  },
  {
   "cell_type": "code",
   "execution_count": null,
   "metadata": {},
   "outputs": [],
   "source": [
    "### Some initial imports\n",
    "\n",
    "import warnings\n",
    "warnings.filterwarnings(\"ignore\")\n",
    "from pprint import pprint"
   ]
  },
  {
   "cell_type": "markdown",
   "metadata": {},
   "source": [
    "## Part 0: Getting Set Up and Importing Packages"
   ]
  },
  {
   "cell_type": "markdown",
   "metadata": {},
   "source": [
    "If you don't have them installed already, please install nilearn, pandas, matplotlib, and numpy on your system. Then create a new cell below this and import these three packages."
   ]
  },
  {
   "cell_type": "code",
   "execution_count": null,
   "metadata": {},
   "outputs": [],
   "source": [
    "### Add your import statements here\n",
    "\n",
    "import nilearn\n"
   ]
  },
  {
   "cell_type": "markdown",
   "metadata": {},
   "source": [
    "## Part 1: Importing Data with Nilearn"
   ]
  },
  {
   "cell_type": "markdown",
   "metadata": {},
   "source": [
    "Nilearn is a pretty large Python library and has a lot of moving parts. To keep things a little simpler, we will only import the bits of code that we need, instead of the entire library. Running this cell will import the MNI152 template brain. This template is the average of structural MRI images (T1 weighted) in 152 participants and is comonly used as a standard coordinate space for data analysis"
   ]
  },
  {
   "cell_type": "code",
   "execution_count": null,
   "metadata": {},
   "outputs": [],
   "source": [
    "# import the MNI152 dataset that comes with nilearn\n",
    "from nilearn.datasets import MNI152_FILE_PATH\n"
   ]
  },
  {
   "cell_type": "markdown",
   "metadata": {},
   "source": [
    "Nilearn is a great way to dive into neuroimaging data without actually having to go to an MRI scan center because it comes pre-loaded with access to a variety of different datasets that let you practice different analyses with nicely organized fMRI data. These various datasets (and other pre-loaded resources) can be found here: https://nilearn.github.io/stable/modules/datasets.html\n",
    "\n",
    "To download a preprocessed dataset, look for the section titled **Preprocessed datasets**. \n",
    "\n",
    "**Note:** MRI data can take up *A LOT* of space on your computers hard drive. Some of these datasets have the parameter `n_subjects` in the function call. If you see this option, I highly recommend setting this value to 1 (meaning it will only download 1 subject) for this homework. If you don't see `n_subjects` in the function parameters, it should by default only download a single subject.\n",
    "\n",
    "In the cell below we are downloading one participants data in the Nilearn ADHD dataset. "
   ]
  },
  {
   "cell_type": "code",
   "execution_count": null,
   "metadata": {},
   "outputs": [],
   "source": [
    "# use the fetch_adhd function with parameter n_subjects=1 to download one subject from this dataset\n",
    "\n",
    "adhd_study_sub = nilearn.datasets.fetch_adhd(n_subjects=1)"
   ]
  },
  {
   "cell_type": "markdown",
   "metadata": {},
   "source": [
    "## Part 2: Plotting Brain Images"
   ]
  },
  {
   "cell_type": "markdown",
   "metadata": {},
   "source": [
    "### Plotting the MNI152 Brain\n",
    "\n",
    "For our first plot, we will look at the MNI152 template brain. To create a plot, we can use the `plotting.plot_img()` function. This function just needs you to provide the path (the location of a file on your computer) of an MRI file. However, there are other keywords you can add to tweek the appearance of your plot. These options can be found here: https://nilearn.github.io/stable/modules/generated/nilearn.plotting.plot_img.html#nilearn.plotting.plot_img\n",
    "\n",
    "Let's make a simple figure showing the MNI template"
   ]
  },
  {
   "cell_type": "code",
   "execution_count": null,
   "metadata": {},
   "outputs": [],
   "source": [
    "# import the special plotting functions \n",
    "from nilearn import plotting\n",
    "\n",
    "# The MNI152_FILE_PATH automatically comes with nilearn\n",
    "# If you're curious, try running the command print(MNI152_FILE_PATH)\n",
    "# in another cell to see what an example path looks like\n",
    "plotting.plot_anat(MNI152_FILE_PATH)\n"
   ]
  },
  {
   "cell_type": "markdown",
   "metadata": {},
   "source": [
    "### Plotting the ADHD dataset\n",
    "\n",
    "If you're curious about another dataset you just downloaded from nilearn you can look at it by editing and running the cell below."
   ]
  },
  {
   "cell_type": "code",
   "execution_count": null,
   "metadata": {},
   "outputs": [],
   "source": [
    "### Update this cell with your data\n",
    "\n",
    "pprint(adhd_study_sub)"
   ]
  },
  {
   "cell_type": "markdown",
   "metadata": {},
   "source": [
    "That's a lot of information...Turns out that the pre-loaded Nilearn datasets are stored as dictionaries. You should look for the key that has the file extension `.nii.gz` (known as a NIFTI file). This entry should be associated with the key `'func'` but may look slightly different depending on what dataset you have chosen but as long as the value associated with the key has the `.nii.gz` extension you should be good to go. When loading these files, you have to call the function `nilearn.image.load_img(your_image_file)`\n",
    "\n",
    "So now lets look at the entry holding our NIFTI file. The MNI152 brain above is an average image of 152 structural images. However, these other datasets consist of a series of functional images captured over the duration of the experiment. The scanner captures an image every couple of seconds. You can check the dimensions images your single subjects data by calling the `shape` method on your subject's loaded functional data (`.func`) in the cell below. The first three numbers are the x, y, and z dimensions (since an MRI scan is a 3D image) and the 4th number is the total number of images collected.\n",
    "\n"
   ]
  },
  {
   "cell_type": "code",
   "execution_count": null,
   "metadata": {},
   "outputs": [],
   "source": [
    "### Output your data's shape here\n",
    "\n",
    "nilearn.image.load_img(adhd_study_sub.func).shape"
   ]
  },
  {
   "cell_type": "markdown",
   "metadata": {},
   "source": [
    "fMRI data has 4 dimensions: X, Y, Z and time. We have a couple options for visualizing the brains of our study participants. The first option is to plot the 3d image of each timepoint one by one. This can be accomplished using the function `nilearn.image.index_img()`, where you provide the function a participant and the timepoint number of the image you want to look at. In the following cell, visualize the 10th image your chosen data by wrapping the `nilearn.image.index_img()` function inside the `plotting.plot_anat()` function.\n",
    "\n",
    "**Note:** you can use any of the plotting functions as a wrapper here, I'm just chosing `plotting.plot_anat()` arbitrarily.  "
   ]
  },
  {
   "cell_type": "code",
   "execution_count": null,
   "metadata": {},
   "outputs": [],
   "source": [
    "### Plot the 10th slice here\n",
    "\n",
    "plotting.plot_anat(nilearn.image.index_img(adhd_study_sub.func[0],10))\n"
   ]
  },
  {
   "cell_type": "markdown",
   "metadata": {},
   "source": [
    "The other option we can use to visualize an individual participants data is to use the `mean_img()` function, which takes all the timepoints and compiles them into a single average image. In the cell below, plot the mean image of your participants functional data using the `mean_img()` command. "
   ]
  },
  {
   "cell_type": "code",
   "execution_count": null,
   "metadata": {},
   "outputs": [],
   "source": [
    "# Helper method for avveraging a 4-D image\n",
    "from nilearn.image import mean_img\n",
    "\n",
    "plotting.plot_anat(mean_img(adhd_study_sub.func[0]))"
   ]
  },
  {
   "cell_type": "markdown",
   "metadata": {},
   "source": [
    "In addition to setting specific plotting options ourselves, we can also pass the keyword *mosaic* into the `display_mode` parameter to get an image with many different views of a participant's brain.\n",
    "\n",
    "Try generating this plot with the mean image for the participant you downloaded earlier. "
   ]
  },
  {
   "cell_type": "code",
   "execution_count": null,
   "metadata": {},
   "outputs": [],
   "source": [
    "### Generate mosaic plot here\n",
    "### Note: we also used the plot_epi function instead of plot_anat to generate some colors\n",
    "\n",
    "plotting.plot_epi(mean_img(adhd_study_sub.func[0]),display_mode=\"mosaic\",colorbar=True,cmap='magma')"
   ]
  },
  {
   "cell_type": "markdown",
   "metadata": {},
   "source": [
    "### Interactive Plots\n",
    "\n",
    "One cool feature in Nilearn is the ability to generate interactive plots. These can be generated using the `plotting.view_img(...)` command. Try generating an interactive version of your mean image in the cell below"
   ]
  },
  {
   "cell_type": "code",
   "execution_count": null,
   "metadata": {
    "scrolled": true
   },
   "outputs": [],
   "source": [
    "### Generate your interactive plot here\n",
    "\n",
    "mean_img = mean_img(adhd_study_sub.func[0])\n",
    "\n",
    "plotting.view_img(mean_img)"
   ]
  },
  {
   "cell_type": "markdown",
   "metadata": {},
   "source": [
    "## Part 3: Downloading Another Dataset\n",
    "\n",
    "Now it's your turn to download a dataset. Choose a different preprocessed dataset from nilearn (https://nilearn.github.io/stable/modules/datasets.html), download a single participant's data, and generate the same plots that we just created with the participant from the ADHD dataset. Write your code below and submit the notebook as the first homework assignment"
   ]
  },
  {
   "cell_type": "code",
   "execution_count": null,
   "metadata": {},
   "outputs": [],
   "source": [
    "### Start your code here..."
   ]
  },
  {
   "cell_type": "code",
   "execution_count": null,
   "metadata": {},
   "outputs": [],
   "source": []
  }
 ],
 "metadata": {
  "kernelspec": {
   "display_name": "Python 3 (ipykernel)",
   "language": "python",
   "name": "python3"
  },
  "language_info": {
   "codemirror_mode": {
    "name": "ipython",
    "version": 3
   },
   "file_extension": ".py",
   "mimetype": "text/x-python",
   "name": "python",
   "nbconvert_exporter": "python",
   "pygments_lexer": "ipython3",
   "version": "3.11.4"
  }
 },
 "nbformat": 4,
 "nbformat_minor": 4
}
