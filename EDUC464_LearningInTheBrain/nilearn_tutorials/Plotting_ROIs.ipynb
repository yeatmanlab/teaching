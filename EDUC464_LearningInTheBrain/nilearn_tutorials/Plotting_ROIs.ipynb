{
 "cells": [
  {
   "cell_type": "code",
   "execution_count": null,
   "metadata": {},
   "outputs": [],
   "source": [
    "from glob import glob\n",
    "import nilearn.plotting as niplot\n",
    "import os.path as op\n",
    "\n",
    "from nilearn.datasets import MNI152_FILE_PATH, fetch_surf_fsaverage\n",
    "from nilearn.image import mean_img,math_img,load_img\n",
    "from nilearn.surface import vol_to_surf\n"
   ]
  },
  {
   "cell_type": "code",
   "execution_count": null,
   "metadata": {},
   "outputs": [],
   "source": [
    "## Change this variable depending on where you are storing your ROI files\n",
    "\n",
    "data_dir = \"./data\""
   ]
  },
  {
   "cell_type": "code",
   "execution_count": null,
   "metadata": {},
   "outputs": [],
   "source": [
    "# use glob to get a list of our roi files\n",
    "# one could also manually generate this list\n",
    "# as such:\n",
    "# rois = ['./data/roi_1.nii.gz', './data/roi_2.nii.gz', './data/roi_3.nii.gz']\n",
    "\n",
    "rois = glob(op.join(data_dir,'roi*.nii.gz'))\n"
   ]
  },
  {
   "cell_type": "markdown",
   "metadata": {},
   "source": [
    "# Plot Individual ROI"
   ]
  },
  {
   "cell_type": "code",
   "execution_count": null,
   "metadata": {},
   "outputs": [],
   "source": [
    "# simple plot of first roi with the MNI template as a background image\n",
    "\n",
    "niplot.plot_roi(rois[0],bg_img=MNI152_FILE_PATH)"
   ]
  },
  {
   "cell_type": "code",
   "execution_count": null,
   "metadata": {
    "scrolled": true
   },
   "outputs": [],
   "source": [
    "# interactive plot of first roi\n",
    "\n",
    "niplot.view_img(rois[0])"
   ]
  },
  {
   "cell_type": "code",
   "execution_count": null,
   "metadata": {},
   "outputs": [],
   "source": [
    "# plot first roi on cortical surface\n",
    "# Nilearn also allows us to plot ROIs (among other things)\n",
    "# on a rendering of the cortical surface\n",
    "\n",
    "# First, we need to grab a template surface\n",
    "fsaverage = fetch_surf_fsaverage()\n",
    "\n",
    "# Second, we use to vol_to_surf function to \n",
    "# convert our roi volume into a surface\n",
    "\n",
    "surf_roi = vol_to_surf(\n",
    "    rois[0],\n",
    "    surf_mesh=fsaverage[\"pial_left\"],\n",
    "    radius=3\n",
    ")\n",
    "\n",
    "# We can then plot our roi surface with sulcal depth as background (bg_map argument)\n",
    "surf_plot = niplot.plot_surf_stat_map(fsaverage['pial_left'], stat_map=surf_roi,\n",
    "                       hemi='left', view='medial',threshold=0.01,\n",
    "                       bg_map=fsaverage['sulc_left'],\n",
    "                       darkness=.5,cmap='plasma',colorbar=False)\n"
   ]
  },
  {
   "cell_type": "code",
   "execution_count": null,
   "metadata": {},
   "outputs": [],
   "source": [
    "# We can also tell this function to use the curvature as the background\n",
    "# Here we plot our roi surface with curvature as background\n",
    "surf_plot = niplot.plot_surf_stat_map(fsaverage['pial_left'], stat_map=surf_roi,\n",
    "                       hemi='left', view='medial',threshold=0.01,\n",
    "                       bg_map=fsaverage['curv_left'],\n",
    "                       darkness=.5,cmap='plasma',colorbar=False)"
   ]
  },
  {
   "cell_type": "code",
   "execution_count": null,
   "metadata": {},
   "outputs": [],
   "source": [
    "# We can also generate interactive surface visualizations\n",
    "\n",
    "niplot.view_img_on_surf(rois[0], surf_mesh='fsaverage5',bg_on_data=True)"
   ]
  },
  {
   "cell_type": "markdown",
   "metadata": {},
   "source": [
    "# Combine Multiple ROIs into \"Probability Map\""
   ]
  },
  {
   "cell_type": "code",
   "execution_count": null,
   "metadata": {},
   "outputs": [],
   "source": [
    "# Since we have multiple ROIs, we can combine them all into a\n",
    "# probability map by summing each ROI and then dividing by the \n",
    "# total number of ROIs\n",
    "\n",
    "# sum up our ROIs and divide by number of ROIs (average)\n",
    "prob_map = mean_img(rois)"
   ]
  },
  {
   "cell_type": "code",
   "execution_count": null,
   "metadata": {},
   "outputs": [],
   "source": [
    "# Plot our ROI probability map (Note: the plot_stat_map function gives nice color bars)\n",
    "niplot.plot_stat_map(prob_map,bg_img=MNI152_FILE_PATH,cmap='plasma',colorbar=True)\n"
   ]
  },
  {
   "cell_type": "code",
   "execution_count": null,
   "metadata": {},
   "outputs": [],
   "source": [
    "# Interactive plot of our probability map\n",
    "\n",
    "niplot.view_img(prob_map,bg_img=MNI152_FILE_PATH)"
   ]
  },
  {
   "cell_type": "code",
   "execution_count": null,
   "metadata": {},
   "outputs": [],
   "source": [
    "# We can also convert our probability map to a surface and plot \n",
    "# it on the coritcal surface\n",
    "\n",
    "# function to convert our probability map volume into a surface\n",
    "surf_prob_map = vol_to_surf(\n",
    "    prob_map,\n",
    "    surf_mesh=fsaverage[\"pial_left\"],\n",
    "    radius=12\n",
    ")\n",
    "\n",
    "# plot our roi surface \n",
    "surf_plot = niplot.plot_surf_stat_map(fsaverage['pial_left'], stat_map=surf_prob_map,\n",
    "                       hemi='left', view='medial',threshold=0.01,\n",
    "                       bg_map=fsaverage['sulc_left'], bg_on_data=False,\n",
    "                       darkness=.5,cmap='plasma',colorbar=False)"
   ]
  },
  {
   "cell_type": "code",
   "execution_count": null,
   "metadata": {},
   "outputs": [],
   "source": [
    "# plot our roi surface with curvature as background\n",
    "surf_plot = niplot.plot_surf_stat_map(fsaverage['pial_left'], stat_map=surf_prob_map,\n",
    "                       hemi='left', view='medial',threshold=0.01,\n",
    "                       bg_map=fsaverage['curv_left'], bg_on_data=False,\n",
    "                       darkness=.5,cmap='plasma',colorbar=False)"
   ]
  },
  {
   "cell_type": "code",
   "execution_count": null,
   "metadata": {},
   "outputs": [],
   "source": [
    "# plot interactive surface\n",
    "\n",
    "niplot.view_img_on_surf(prob_map, surf_mesh='fsaverage5',bg_on_data=True)"
   ]
  },
  {
   "cell_type": "code",
   "execution_count": null,
   "metadata": {},
   "outputs": [],
   "source": []
  }
 ],
 "metadata": {
  "kernelspec": {
   "display_name": "Python [conda env:nilearn]",
   "language": "python",
   "name": "conda-env-nilearn-py"
  },
  "language_info": {
   "codemirror_mode": {
    "name": "ipython",
    "version": 3
   },
   "file_extension": ".py",
   "mimetype": "text/x-python",
   "name": "python",
   "nbconvert_exporter": "python",
   "pygments_lexer": "ipython3",
   "version": "3.11.5"
  }
 },
 "nbformat": 4,
 "nbformat_minor": 4
}
